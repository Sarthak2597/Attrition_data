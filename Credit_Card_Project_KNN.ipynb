{
  "nbformat": 4,
  "nbformat_minor": 0,
  "metadata": {
    "colab": {
      "name": "Credit Card Project KNN.ipynb",
      "provenance": [],
      "collapsed_sections": [],
      "authorship_tag": "ABX9TyP1vWULComuXnYDtCW7rL1K",
      "include_colab_link": true
    },
    "kernelspec": {
      "name": "python3",
      "display_name": "Python 3"
    }
  },
  "cells": [
    {
      "cell_type": "markdown",
      "metadata": {
        "id": "view-in-github",
        "colab_type": "text"
      },
      "source": [
        "<a href=\"https://colab.research.google.com/github/Sarthak2597/Attrition_data/blob/main/Credit_Card_Project_KNN.ipynb\" target=\"_parent\"><img src=\"https://colab.research.google.com/assets/colab-badge.svg\" alt=\"Open In Colab\"/></a>"
      ]
    },
    {
      "cell_type": "code",
      "metadata": {
        "colab": {
          "base_uri": "https://localhost:8080/"
        },
        "id": "FUHVNjuXYcq8",
        "outputId": "fef15b05-de27-46a5-afed-ad0a3604f2e4"
      },
      "source": [
        "pip install scikit-learn==0.24.1"
      ],
      "execution_count": 1,
      "outputs": [
        {
          "output_type": "stream",
          "text": [
            "Collecting scikit-learn==0.24.1\n",
            "\u001b[?25l  Downloading https://files.pythonhosted.org/packages/f3/74/eb899f41d55f957e2591cde5528e75871f817d9fb46d4732423ecaca736d/scikit_learn-0.24.1-cp37-cp37m-manylinux2010_x86_64.whl (22.3MB)\n",
            "\u001b[K     |████████████████████████████████| 22.3MB 38.0MB/s \n",
            "\u001b[?25hCollecting threadpoolctl>=2.0.0\n",
            "  Downloading https://files.pythonhosted.org/packages/f7/12/ec3f2e203afa394a149911729357aa48affc59c20e2c1c8297a60f33f133/threadpoolctl-2.1.0-py3-none-any.whl\n",
            "Requirement already satisfied: numpy>=1.13.3 in /usr/local/lib/python3.7/dist-packages (from scikit-learn==0.24.1) (1.19.5)\n",
            "Requirement already satisfied: scipy>=0.19.1 in /usr/local/lib/python3.7/dist-packages (from scikit-learn==0.24.1) (1.4.1)\n",
            "Requirement already satisfied: joblib>=0.11 in /usr/local/lib/python3.7/dist-packages (from scikit-learn==0.24.1) (1.0.1)\n",
            "Installing collected packages: threadpoolctl, scikit-learn\n",
            "  Found existing installation: scikit-learn 0.22.2.post1\n",
            "    Uninstalling scikit-learn-0.22.2.post1:\n",
            "      Successfully uninstalled scikit-learn-0.22.2.post1\n",
            "Successfully installed scikit-learn-0.24.1 threadpoolctl-2.1.0\n"
          ],
          "name": "stdout"
        }
      ]
    },
    {
      "cell_type": "code",
      "metadata": {
        "colab": {
          "base_uri": "https://localhost:8080/"
        },
        "id": "4NPSBhvGYnwc",
        "outputId": "1cb8d2fd-bb31-4ffc-e8a5-c4b717d71a73"
      },
      "source": [
        "import pandas as pd\r\n",
        "import matplotlib.pyplot as plt\r\n",
        "import numpy as np\r\n",
        "import sklearn\r\n",
        "print(sklearn. __version__)\r\n",
        "import seaborn as sns\r\n",
        "import pickle\r\n",
        "from sklearn import preprocessing\r\n",
        "from IPython.display import clear_output\r\n",
        "from sklearn.neighbors import KNeighborsClassifier\r\n",
        "from sklearn.model_selection import train_test_split\r\n",
        "from sklearn.metrics import classification_report, confusion_matrix, matthews_corrcoef\r\n",
        "%matplotlib inline"
      ],
      "execution_count": 2,
      "outputs": [
        {
          "output_type": "stream",
          "text": [
            "0.24.1\n"
          ],
          "name": "stdout"
        }
      ]
    },
    {
      "cell_type": "code",
      "metadata": {
        "colab": {
          "base_uri": "https://localhost:8080/"
        },
        "id": "hKVYInZRbB6a",
        "outputId": "f5c4b68b-c9c8-4a22-b0b3-1addf9d70c48"
      },
      "source": [
        "from google.colab import drive\r\n",
        "drive.mount('/content/drive/')"
      ],
      "execution_count": 3,
      "outputs": [
        {
          "output_type": "stream",
          "text": [
            "Mounted at /content/drive/\n"
          ],
          "name": "stdout"
        }
      ]
    },
    {
      "cell_type": "markdown",
      "metadata": {
        "id": "EuC8AIoo4JV_"
      },
      "source": [
        "# Data Cleaning\r\n",
        "\r\n",
        "We begin from the data augmentation already done in Credit Card Project_SVM.ipynb and carry on from there. Since all the models i.e. SVM, KNN and ANN will be deployed on the same app, it makes sense to have same type of inputs."
      ]
    },
    {
      "cell_type": "code",
      "metadata": {
        "colab": {
          "base_uri": "https://localhost:8080/",
          "height": 590
        },
        "id": "QvjbUUkHbGzb",
        "outputId": "7052236f-7c7e-4fa5-9fb7-19e776c3d2b9"
      },
      "source": [
        "df=pd.read_csv('/content/drive/MyDrive/Colab Notebooks/BankChurners.csv')\r\n",
        "df"
      ],
      "execution_count": 78,
      "outputs": [
        {
          "output_type": "execute_result",
          "data": {
            "text/html": [
              "<div>\n",
              "<style scoped>\n",
              "    .dataframe tbody tr th:only-of-type {\n",
              "        vertical-align: middle;\n",
              "    }\n",
              "\n",
              "    .dataframe tbody tr th {\n",
              "        vertical-align: top;\n",
              "    }\n",
              "\n",
              "    .dataframe thead th {\n",
              "        text-align: right;\n",
              "    }\n",
              "</style>\n",
              "<table border=\"1\" class=\"dataframe\">\n",
              "  <thead>\n",
              "    <tr style=\"text-align: right;\">\n",
              "      <th></th>\n",
              "      <th>CLIENTNUM</th>\n",
              "      <th>Attrition_Flag</th>\n",
              "      <th>Customer_Age</th>\n",
              "      <th>Gender</th>\n",
              "      <th>Dependent_count</th>\n",
              "      <th>Education_Level</th>\n",
              "      <th>Marital_Status</th>\n",
              "      <th>Income_Category</th>\n",
              "      <th>Card_Category</th>\n",
              "      <th>Months_on_book</th>\n",
              "      <th>Total_Relationship_Count</th>\n",
              "      <th>Months_Inactive_12_mon</th>\n",
              "      <th>Contacts_Count_12_mon</th>\n",
              "      <th>Credit_Limit</th>\n",
              "      <th>Total_Revolving_Bal</th>\n",
              "      <th>Avg_Open_To_Buy</th>\n",
              "      <th>Total_Amt_Chng_Q4_Q1</th>\n",
              "      <th>Total_Trans_Amt</th>\n",
              "      <th>Total_Trans_Ct</th>\n",
              "      <th>Total_Ct_Chng_Q4_Q1</th>\n",
              "      <th>Avg_Utilization_Ratio</th>\n",
              "      <th>Naive_Bayes_Classifier_Attrition_Flag_Card_Category_Contacts_Count_12_mon_Dependent_count_Education_Level_Months_Inactive_12_mon_1</th>\n",
              "      <th>Naive_Bayes_Classifier_Attrition_Flag_Card_Category_Contacts_Count_12_mon_Dependent_count_Education_Level_Months_Inactive_12_mon_2</th>\n",
              "    </tr>\n",
              "  </thead>\n",
              "  <tbody>\n",
              "    <tr>\n",
              "      <th>0</th>\n",
              "      <td>768805383</td>\n",
              "      <td>Existing Customer</td>\n",
              "      <td>45</td>\n",
              "      <td>M</td>\n",
              "      <td>3</td>\n",
              "      <td>High School</td>\n",
              "      <td>Married</td>\n",
              "      <td>$60K - $80K</td>\n",
              "      <td>Blue</td>\n",
              "      <td>39</td>\n",
              "      <td>5</td>\n",
              "      <td>1</td>\n",
              "      <td>3</td>\n",
              "      <td>12691.0</td>\n",
              "      <td>777</td>\n",
              "      <td>11914.0</td>\n",
              "      <td>1.335</td>\n",
              "      <td>1144</td>\n",
              "      <td>42</td>\n",
              "      <td>1.625</td>\n",
              "      <td>0.061</td>\n",
              "      <td>0.000093</td>\n",
              "      <td>0.999910</td>\n",
              "    </tr>\n",
              "    <tr>\n",
              "      <th>1</th>\n",
              "      <td>818770008</td>\n",
              "      <td>Existing Customer</td>\n",
              "      <td>49</td>\n",
              "      <td>F</td>\n",
              "      <td>5</td>\n",
              "      <td>Graduate</td>\n",
              "      <td>Single</td>\n",
              "      <td>Less than $40K</td>\n",
              "      <td>Blue</td>\n",
              "      <td>44</td>\n",
              "      <td>6</td>\n",
              "      <td>1</td>\n",
              "      <td>2</td>\n",
              "      <td>8256.0</td>\n",
              "      <td>864</td>\n",
              "      <td>7392.0</td>\n",
              "      <td>1.541</td>\n",
              "      <td>1291</td>\n",
              "      <td>33</td>\n",
              "      <td>3.714</td>\n",
              "      <td>0.105</td>\n",
              "      <td>0.000057</td>\n",
              "      <td>0.999940</td>\n",
              "    </tr>\n",
              "    <tr>\n",
              "      <th>2</th>\n",
              "      <td>713982108</td>\n",
              "      <td>Existing Customer</td>\n",
              "      <td>51</td>\n",
              "      <td>M</td>\n",
              "      <td>3</td>\n",
              "      <td>Graduate</td>\n",
              "      <td>Married</td>\n",
              "      <td>$80K - $120K</td>\n",
              "      <td>Blue</td>\n",
              "      <td>36</td>\n",
              "      <td>4</td>\n",
              "      <td>1</td>\n",
              "      <td>0</td>\n",
              "      <td>3418.0</td>\n",
              "      <td>0</td>\n",
              "      <td>3418.0</td>\n",
              "      <td>2.594</td>\n",
              "      <td>1887</td>\n",
              "      <td>20</td>\n",
              "      <td>2.333</td>\n",
              "      <td>0.000</td>\n",
              "      <td>0.000021</td>\n",
              "      <td>0.999980</td>\n",
              "    </tr>\n",
              "    <tr>\n",
              "      <th>3</th>\n",
              "      <td>769911858</td>\n",
              "      <td>Existing Customer</td>\n",
              "      <td>40</td>\n",
              "      <td>F</td>\n",
              "      <td>4</td>\n",
              "      <td>High School</td>\n",
              "      <td>Unknown</td>\n",
              "      <td>Less than $40K</td>\n",
              "      <td>Blue</td>\n",
              "      <td>34</td>\n",
              "      <td>3</td>\n",
              "      <td>4</td>\n",
              "      <td>1</td>\n",
              "      <td>3313.0</td>\n",
              "      <td>2517</td>\n",
              "      <td>796.0</td>\n",
              "      <td>1.405</td>\n",
              "      <td>1171</td>\n",
              "      <td>20</td>\n",
              "      <td>2.333</td>\n",
              "      <td>0.760</td>\n",
              "      <td>0.000134</td>\n",
              "      <td>0.999870</td>\n",
              "    </tr>\n",
              "    <tr>\n",
              "      <th>4</th>\n",
              "      <td>709106358</td>\n",
              "      <td>Existing Customer</td>\n",
              "      <td>40</td>\n",
              "      <td>M</td>\n",
              "      <td>3</td>\n",
              "      <td>Uneducated</td>\n",
              "      <td>Married</td>\n",
              "      <td>$60K - $80K</td>\n",
              "      <td>Blue</td>\n",
              "      <td>21</td>\n",
              "      <td>5</td>\n",
              "      <td>1</td>\n",
              "      <td>0</td>\n",
              "      <td>4716.0</td>\n",
              "      <td>0</td>\n",
              "      <td>4716.0</td>\n",
              "      <td>2.175</td>\n",
              "      <td>816</td>\n",
              "      <td>28</td>\n",
              "      <td>2.500</td>\n",
              "      <td>0.000</td>\n",
              "      <td>0.000022</td>\n",
              "      <td>0.999980</td>\n",
              "    </tr>\n",
              "    <tr>\n",
              "      <th>...</th>\n",
              "      <td>...</td>\n",
              "      <td>...</td>\n",
              "      <td>...</td>\n",
              "      <td>...</td>\n",
              "      <td>...</td>\n",
              "      <td>...</td>\n",
              "      <td>...</td>\n",
              "      <td>...</td>\n",
              "      <td>...</td>\n",
              "      <td>...</td>\n",
              "      <td>...</td>\n",
              "      <td>...</td>\n",
              "      <td>...</td>\n",
              "      <td>...</td>\n",
              "      <td>...</td>\n",
              "      <td>...</td>\n",
              "      <td>...</td>\n",
              "      <td>...</td>\n",
              "      <td>...</td>\n",
              "      <td>...</td>\n",
              "      <td>...</td>\n",
              "      <td>...</td>\n",
              "      <td>...</td>\n",
              "    </tr>\n",
              "    <tr>\n",
              "      <th>10122</th>\n",
              "      <td>772366833</td>\n",
              "      <td>Existing Customer</td>\n",
              "      <td>50</td>\n",
              "      <td>M</td>\n",
              "      <td>2</td>\n",
              "      <td>Graduate</td>\n",
              "      <td>Single</td>\n",
              "      <td>$40K - $60K</td>\n",
              "      <td>Blue</td>\n",
              "      <td>40</td>\n",
              "      <td>3</td>\n",
              "      <td>2</td>\n",
              "      <td>3</td>\n",
              "      <td>4003.0</td>\n",
              "      <td>1851</td>\n",
              "      <td>2152.0</td>\n",
              "      <td>0.703</td>\n",
              "      <td>15476</td>\n",
              "      <td>117</td>\n",
              "      <td>0.857</td>\n",
              "      <td>0.462</td>\n",
              "      <td>0.000191</td>\n",
              "      <td>0.999810</td>\n",
              "    </tr>\n",
              "    <tr>\n",
              "      <th>10123</th>\n",
              "      <td>710638233</td>\n",
              "      <td>Attrited Customer</td>\n",
              "      <td>41</td>\n",
              "      <td>M</td>\n",
              "      <td>2</td>\n",
              "      <td>Unknown</td>\n",
              "      <td>Divorced</td>\n",
              "      <td>$40K - $60K</td>\n",
              "      <td>Blue</td>\n",
              "      <td>25</td>\n",
              "      <td>4</td>\n",
              "      <td>2</td>\n",
              "      <td>3</td>\n",
              "      <td>4277.0</td>\n",
              "      <td>2186</td>\n",
              "      <td>2091.0</td>\n",
              "      <td>0.804</td>\n",
              "      <td>8764</td>\n",
              "      <td>69</td>\n",
              "      <td>0.683</td>\n",
              "      <td>0.511</td>\n",
              "      <td>0.995270</td>\n",
              "      <td>0.004729</td>\n",
              "    </tr>\n",
              "    <tr>\n",
              "      <th>10124</th>\n",
              "      <td>716506083</td>\n",
              "      <td>Attrited Customer</td>\n",
              "      <td>44</td>\n",
              "      <td>F</td>\n",
              "      <td>1</td>\n",
              "      <td>High School</td>\n",
              "      <td>Married</td>\n",
              "      <td>Less than $40K</td>\n",
              "      <td>Blue</td>\n",
              "      <td>36</td>\n",
              "      <td>5</td>\n",
              "      <td>3</td>\n",
              "      <td>4</td>\n",
              "      <td>5409.0</td>\n",
              "      <td>0</td>\n",
              "      <td>5409.0</td>\n",
              "      <td>0.819</td>\n",
              "      <td>10291</td>\n",
              "      <td>60</td>\n",
              "      <td>0.818</td>\n",
              "      <td>0.000</td>\n",
              "      <td>0.997880</td>\n",
              "      <td>0.002118</td>\n",
              "    </tr>\n",
              "    <tr>\n",
              "      <th>10125</th>\n",
              "      <td>717406983</td>\n",
              "      <td>Attrited Customer</td>\n",
              "      <td>30</td>\n",
              "      <td>M</td>\n",
              "      <td>2</td>\n",
              "      <td>Graduate</td>\n",
              "      <td>Unknown</td>\n",
              "      <td>$40K - $60K</td>\n",
              "      <td>Blue</td>\n",
              "      <td>36</td>\n",
              "      <td>4</td>\n",
              "      <td>3</td>\n",
              "      <td>3</td>\n",
              "      <td>5281.0</td>\n",
              "      <td>0</td>\n",
              "      <td>5281.0</td>\n",
              "      <td>0.535</td>\n",
              "      <td>8395</td>\n",
              "      <td>62</td>\n",
              "      <td>0.722</td>\n",
              "      <td>0.000</td>\n",
              "      <td>0.996710</td>\n",
              "      <td>0.003294</td>\n",
              "    </tr>\n",
              "    <tr>\n",
              "      <th>10126</th>\n",
              "      <td>714337233</td>\n",
              "      <td>Attrited Customer</td>\n",
              "      <td>43</td>\n",
              "      <td>F</td>\n",
              "      <td>2</td>\n",
              "      <td>Graduate</td>\n",
              "      <td>Married</td>\n",
              "      <td>Less than $40K</td>\n",
              "      <td>Silver</td>\n",
              "      <td>25</td>\n",
              "      <td>6</td>\n",
              "      <td>2</td>\n",
              "      <td>4</td>\n",
              "      <td>10388.0</td>\n",
              "      <td>1961</td>\n",
              "      <td>8427.0</td>\n",
              "      <td>0.703</td>\n",
              "      <td>10294</td>\n",
              "      <td>61</td>\n",
              "      <td>0.649</td>\n",
              "      <td>0.189</td>\n",
              "      <td>0.996620</td>\n",
              "      <td>0.003377</td>\n",
              "    </tr>\n",
              "  </tbody>\n",
              "</table>\n",
              "<p>10127 rows × 23 columns</p>\n",
              "</div>"
            ],
            "text/plain": [
              "       CLIENTNUM  ... Naive_Bayes_Classifier_Attrition_Flag_Card_Category_Contacts_Count_12_mon_Dependent_count_Education_Level_Months_Inactive_12_mon_2\n",
              "0      768805383  ...                                           0.999910                                                                                \n",
              "1      818770008  ...                                           0.999940                                                                                \n",
              "2      713982108  ...                                           0.999980                                                                                \n",
              "3      769911858  ...                                           0.999870                                                                                \n",
              "4      709106358  ...                                           0.999980                                                                                \n",
              "...          ...  ...                                                ...                                                                                \n",
              "10122  772366833  ...                                           0.999810                                                                                \n",
              "10123  710638233  ...                                           0.004729                                                                                \n",
              "10124  716506083  ...                                           0.002118                                                                                \n",
              "10125  717406983  ...                                           0.003294                                                                                \n",
              "10126  714337233  ...                                           0.003377                                                                                \n",
              "\n",
              "[10127 rows x 23 columns]"
            ]
          },
          "metadata": {
            "tags": []
          },
          "execution_count": 78
        }
      ]
    },
    {
      "cell_type": "code",
      "metadata": {
        "id": "-QcrcWMAbSJ9"
      },
      "source": [
        "df=df.drop(['CLIENTNUM','Naive_Bayes_Classifier_Attrition_Flag_Card_Category_Contacts_Count_12_mon_Dependent_count_Education_Level_Months_Inactive_12_mon_2','Naive_Bayes_Classifier_Attrition_Flag_Card_Category_Contacts_Count_12_mon_Dependent_count_Education_Level_Months_Inactive_12_mon_1'], axis=1)"
      ],
      "execution_count": 79,
      "outputs": []
    },
    {
      "cell_type": "code",
      "metadata": {
        "id": "g_3tlozdbd2t"
      },
      "source": [
        "def norm(y):\r\n",
        "  y1=[]\r\n",
        "  y1 = y.split()\r\n",
        "  for x in y1:\r\n",
        "    df[x] = (df[x] - df[x].min())/(df[x].max()-df[x].min())\r\n",
        "  return df"
      ],
      "execution_count": 80,
      "outputs": []
    },
    {
      "cell_type": "code",
      "metadata": {
        "colab": {
          "base_uri": "https://localhost:8080/",
          "height": 590
        },
        "id": "cO9tI1bJbjz7",
        "outputId": "0d5c2d50-33ff-46ab-bff2-b26386431a7a"
      },
      "source": [
        "norm(\"Credit_Limit Total_Revolving_Bal Avg_Open_To_Buy Total_Amt_Chng_Q4_Q1 Total_Trans_Amt Total_Trans_Ct Total_Ct_Chng_Q4_Q1\")"
      ],
      "execution_count": 81,
      "outputs": [
        {
          "output_type": "execute_result",
          "data": {
            "text/html": [
              "<div>\n",
              "<style scoped>\n",
              "    .dataframe tbody tr th:only-of-type {\n",
              "        vertical-align: middle;\n",
              "    }\n",
              "\n",
              "    .dataframe tbody tr th {\n",
              "        vertical-align: top;\n",
              "    }\n",
              "\n",
              "    .dataframe thead th {\n",
              "        text-align: right;\n",
              "    }\n",
              "</style>\n",
              "<table border=\"1\" class=\"dataframe\">\n",
              "  <thead>\n",
              "    <tr style=\"text-align: right;\">\n",
              "      <th></th>\n",
              "      <th>Attrition_Flag</th>\n",
              "      <th>Customer_Age</th>\n",
              "      <th>Gender</th>\n",
              "      <th>Dependent_count</th>\n",
              "      <th>Education_Level</th>\n",
              "      <th>Marital_Status</th>\n",
              "      <th>Income_Category</th>\n",
              "      <th>Card_Category</th>\n",
              "      <th>Months_on_book</th>\n",
              "      <th>Total_Relationship_Count</th>\n",
              "      <th>Months_Inactive_12_mon</th>\n",
              "      <th>Contacts_Count_12_mon</th>\n",
              "      <th>Credit_Limit</th>\n",
              "      <th>Total_Revolving_Bal</th>\n",
              "      <th>Avg_Open_To_Buy</th>\n",
              "      <th>Total_Amt_Chng_Q4_Q1</th>\n",
              "      <th>Total_Trans_Amt</th>\n",
              "      <th>Total_Trans_Ct</th>\n",
              "      <th>Total_Ct_Chng_Q4_Q1</th>\n",
              "      <th>Avg_Utilization_Ratio</th>\n",
              "    </tr>\n",
              "  </thead>\n",
              "  <tbody>\n",
              "    <tr>\n",
              "      <th>0</th>\n",
              "      <td>Existing Customer</td>\n",
              "      <td>45</td>\n",
              "      <td>M</td>\n",
              "      <td>3</td>\n",
              "      <td>High School</td>\n",
              "      <td>Married</td>\n",
              "      <td>$60K - $80K</td>\n",
              "      <td>Blue</td>\n",
              "      <td>39</td>\n",
              "      <td>5</td>\n",
              "      <td>1</td>\n",
              "      <td>3</td>\n",
              "      <td>0.340190</td>\n",
              "      <td>0.308701</td>\n",
              "      <td>0.345116</td>\n",
              "      <td>0.392994</td>\n",
              "      <td>0.035273</td>\n",
              "      <td>0.248062</td>\n",
              "      <td>0.437534</td>\n",
              "      <td>0.061</td>\n",
              "    </tr>\n",
              "    <tr>\n",
              "      <th>1</th>\n",
              "      <td>Existing Customer</td>\n",
              "      <td>49</td>\n",
              "      <td>F</td>\n",
              "      <td>5</td>\n",
              "      <td>Graduate</td>\n",
              "      <td>Single</td>\n",
              "      <td>Less than $40K</td>\n",
              "      <td>Blue</td>\n",
              "      <td>44</td>\n",
              "      <td>6</td>\n",
              "      <td>1</td>\n",
              "      <td>2</td>\n",
              "      <td>0.206112</td>\n",
              "      <td>0.343266</td>\n",
              "      <td>0.214093</td>\n",
              "      <td>0.453636</td>\n",
              "      <td>0.043452</td>\n",
              "      <td>0.178295</td>\n",
              "      <td>1.000000</td>\n",
              "      <td>0.105</td>\n",
              "    </tr>\n",
              "    <tr>\n",
              "      <th>2</th>\n",
              "      <td>Existing Customer</td>\n",
              "      <td>51</td>\n",
              "      <td>M</td>\n",
              "      <td>3</td>\n",
              "      <td>Graduate</td>\n",
              "      <td>Married</td>\n",
              "      <td>$80K - $120K</td>\n",
              "      <td>Blue</td>\n",
              "      <td>36</td>\n",
              "      <td>4</td>\n",
              "      <td>1</td>\n",
              "      <td>0</td>\n",
              "      <td>0.059850</td>\n",
              "      <td>0.000000</td>\n",
              "      <td>0.098948</td>\n",
              "      <td>0.763615</td>\n",
              "      <td>0.076611</td>\n",
              "      <td>0.077519</td>\n",
              "      <td>0.628164</td>\n",
              "      <td>0.000</td>\n",
              "    </tr>\n",
              "    <tr>\n",
              "      <th>3</th>\n",
              "      <td>Existing Customer</td>\n",
              "      <td>40</td>\n",
              "      <td>F</td>\n",
              "      <td>4</td>\n",
              "      <td>High School</td>\n",
              "      <td>Unknown</td>\n",
              "      <td>Less than $40K</td>\n",
              "      <td>Blue</td>\n",
              "      <td>34</td>\n",
              "      <td>3</td>\n",
              "      <td>4</td>\n",
              "      <td>1</td>\n",
              "      <td>0.056676</td>\n",
              "      <td>1.000000</td>\n",
              "      <td>0.022977</td>\n",
              "      <td>0.413600</td>\n",
              "      <td>0.036775</td>\n",
              "      <td>0.077519</td>\n",
              "      <td>0.628164</td>\n",
              "      <td>0.760</td>\n",
              "    </tr>\n",
              "    <tr>\n",
              "      <th>4</th>\n",
              "      <td>Existing Customer</td>\n",
              "      <td>40</td>\n",
              "      <td>M</td>\n",
              "      <td>3</td>\n",
              "      <td>Uneducated</td>\n",
              "      <td>Married</td>\n",
              "      <td>$60K - $80K</td>\n",
              "      <td>Blue</td>\n",
              "      <td>21</td>\n",
              "      <td>5</td>\n",
              "      <td>1</td>\n",
              "      <td>0</td>\n",
              "      <td>0.099091</td>\n",
              "      <td>0.000000</td>\n",
              "      <td>0.136557</td>\n",
              "      <td>0.640271</td>\n",
              "      <td>0.017025</td>\n",
              "      <td>0.139535</td>\n",
              "      <td>0.673129</td>\n",
              "      <td>0.000</td>\n",
              "    </tr>\n",
              "    <tr>\n",
              "      <th>...</th>\n",
              "      <td>...</td>\n",
              "      <td>...</td>\n",
              "      <td>...</td>\n",
              "      <td>...</td>\n",
              "      <td>...</td>\n",
              "      <td>...</td>\n",
              "      <td>...</td>\n",
              "      <td>...</td>\n",
              "      <td>...</td>\n",
              "      <td>...</td>\n",
              "      <td>...</td>\n",
              "      <td>...</td>\n",
              "      <td>...</td>\n",
              "      <td>...</td>\n",
              "      <td>...</td>\n",
              "      <td>...</td>\n",
              "      <td>...</td>\n",
              "      <td>...</td>\n",
              "      <td>...</td>\n",
              "      <td>...</td>\n",
              "    </tr>\n",
              "    <tr>\n",
              "      <th>10122</th>\n",
              "      <td>Existing Customer</td>\n",
              "      <td>50</td>\n",
              "      <td>M</td>\n",
              "      <td>2</td>\n",
              "      <td>Graduate</td>\n",
              "      <td>Single</td>\n",
              "      <td>$40K - $60K</td>\n",
              "      <td>Blue</td>\n",
              "      <td>40</td>\n",
              "      <td>3</td>\n",
              "      <td>2</td>\n",
              "      <td>3</td>\n",
              "      <td>0.077536</td>\n",
              "      <td>0.735399</td>\n",
              "      <td>0.062266</td>\n",
              "      <td>0.206947</td>\n",
              "      <td>0.832647</td>\n",
              "      <td>0.829457</td>\n",
              "      <td>0.230749</td>\n",
              "      <td>0.462</td>\n",
              "    </tr>\n",
              "    <tr>\n",
              "      <th>10123</th>\n",
              "      <td>Attrited Customer</td>\n",
              "      <td>41</td>\n",
              "      <td>M</td>\n",
              "      <td>2</td>\n",
              "      <td>Unknown</td>\n",
              "      <td>Divorced</td>\n",
              "      <td>$40K - $60K</td>\n",
              "      <td>Blue</td>\n",
              "      <td>25</td>\n",
              "      <td>4</td>\n",
              "      <td>2</td>\n",
              "      <td>3</td>\n",
              "      <td>0.085819</td>\n",
              "      <td>0.868494</td>\n",
              "      <td>0.060499</td>\n",
              "      <td>0.236679</td>\n",
              "      <td>0.459219</td>\n",
              "      <td>0.457364</td>\n",
              "      <td>0.183899</td>\n",
              "      <td>0.511</td>\n",
              "    </tr>\n",
              "    <tr>\n",
              "      <th>10124</th>\n",
              "      <td>Attrited Customer</td>\n",
              "      <td>44</td>\n",
              "      <td>F</td>\n",
              "      <td>1</td>\n",
              "      <td>High School</td>\n",
              "      <td>Married</td>\n",
              "      <td>Less than $40K</td>\n",
              "      <td>Blue</td>\n",
              "      <td>36</td>\n",
              "      <td>5</td>\n",
              "      <td>3</td>\n",
              "      <td>4</td>\n",
              "      <td>0.120042</td>\n",
              "      <td>0.000000</td>\n",
              "      <td>0.156637</td>\n",
              "      <td>0.241095</td>\n",
              "      <td>0.544175</td>\n",
              "      <td>0.387597</td>\n",
              "      <td>0.220248</td>\n",
              "      <td>0.000</td>\n",
              "    </tr>\n",
              "    <tr>\n",
              "      <th>10125</th>\n",
              "      <td>Attrited Customer</td>\n",
              "      <td>30</td>\n",
              "      <td>M</td>\n",
              "      <td>2</td>\n",
              "      <td>Graduate</td>\n",
              "      <td>Unknown</td>\n",
              "      <td>$40K - $60K</td>\n",
              "      <td>Blue</td>\n",
              "      <td>36</td>\n",
              "      <td>4</td>\n",
              "      <td>3</td>\n",
              "      <td>3</td>\n",
              "      <td>0.116172</td>\n",
              "      <td>0.000000</td>\n",
              "      <td>0.152928</td>\n",
              "      <td>0.157492</td>\n",
              "      <td>0.438689</td>\n",
              "      <td>0.403101</td>\n",
              "      <td>0.194400</td>\n",
              "      <td>0.000</td>\n",
              "    </tr>\n",
              "    <tr>\n",
              "      <th>10126</th>\n",
              "      <td>Attrited Customer</td>\n",
              "      <td>43</td>\n",
              "      <td>F</td>\n",
              "      <td>2</td>\n",
              "      <td>Graduate</td>\n",
              "      <td>Married</td>\n",
              "      <td>Less than $40K</td>\n",
              "      <td>Silver</td>\n",
              "      <td>25</td>\n",
              "      <td>6</td>\n",
              "      <td>2</td>\n",
              "      <td>4</td>\n",
              "      <td>0.270566</td>\n",
              "      <td>0.779102</td>\n",
              "      <td>0.244082</td>\n",
              "      <td>0.206947</td>\n",
              "      <td>0.544342</td>\n",
              "      <td>0.395349</td>\n",
              "      <td>0.174744</td>\n",
              "      <td>0.189</td>\n",
              "    </tr>\n",
              "  </tbody>\n",
              "</table>\n",
              "<p>10127 rows × 20 columns</p>\n",
              "</div>"
            ],
            "text/plain": [
              "          Attrition_Flag  ...  Avg_Utilization_Ratio\n",
              "0      Existing Customer  ...                  0.061\n",
              "1      Existing Customer  ...                  0.105\n",
              "2      Existing Customer  ...                  0.000\n",
              "3      Existing Customer  ...                  0.760\n",
              "4      Existing Customer  ...                  0.000\n",
              "...                  ...  ...                    ...\n",
              "10122  Existing Customer  ...                  0.462\n",
              "10123  Attrited Customer  ...                  0.511\n",
              "10124  Attrited Customer  ...                  0.000\n",
              "10125  Attrited Customer  ...                  0.000\n",
              "10126  Attrited Customer  ...                  0.189\n",
              "\n",
              "[10127 rows x 20 columns]"
            ]
          },
          "metadata": {
            "tags": []
          },
          "execution_count": 81
        }
      ]
    },
    {
      "cell_type": "code",
      "metadata": {
        "id": "0JDKpBXsbrTf"
      },
      "source": [
        "def mapp(x):\r\n",
        "    lis=[]\r\n",
        "    for i in range(len(x.unique())):\r\n",
        "        lis.append(i)\r\n",
        "    for j in range(len(lis)):\r\n",
        "        print(x.unique()[j],\":\",lis[j])"
      ],
      "execution_count": 82,
      "outputs": []
    },
    {
      "cell_type": "code",
      "metadata": {
        "colab": {
          "base_uri": "https://localhost:8080/"
        },
        "id": "-WgfWlZ4bwcU",
        "outputId": "e048723a-d6c9-49fd-f264-bdf851442493"
      },
      "source": [
        "mapp(df['Attrition_Flag'])\r\n",
        "num_val1, meta_data = pd.factorize(df['Attrition_Flag'])\r\n",
        "print()\r\n",
        "df['Attrition_Flag'] = num_val1"
      ],
      "execution_count": 83,
      "outputs": [
        {
          "output_type": "stream",
          "text": [
            "Existing Customer : 0\n",
            "Attrited Customer : 1\n",
            "\n"
          ],
          "name": "stdout"
        }
      ]
    },
    {
      "cell_type": "code",
      "metadata": {
        "colab": {
          "base_uri": "https://localhost:8080/"
        },
        "id": "RIX_fbllbzLC",
        "outputId": "6c9ee1c2-be19-4b59-f977-ef52a13d90d6"
      },
      "source": [
        "mapp(df['Card_Category'])\r\n",
        "num_val2, meta_data = pd.factorize(df['Card_Category'])\r\n",
        "df['Card_Category'] = num_val2"
      ],
      "execution_count": 84,
      "outputs": [
        {
          "output_type": "stream",
          "text": [
            "Blue : 0\n",
            "Gold : 1\n",
            "Silver : 2\n",
            "Platinum : 3\n"
          ],
          "name": "stdout"
        }
      ]
    },
    {
      "cell_type": "code",
      "metadata": {
        "colab": {
          "base_uri": "https://localhost:8080/"
        },
        "id": "4hJgP25Ab18R",
        "outputId": "d2876422-d015-4c62-f9ff-3a838bd269f0"
      },
      "source": [
        "\r\n",
        "mapp(df['Education_Level'])\r\n",
        "num_val3, meta_data = pd.factorize(df['Education_Level'])\r\n",
        "df['Education_Level'] = num_val3"
      ],
      "execution_count": 85,
      "outputs": [
        {
          "output_type": "stream",
          "text": [
            "High School : 0\n",
            "Graduate : 1\n",
            "Uneducated : 2\n",
            "Unknown : 3\n",
            "College : 4\n",
            "Post-Graduate : 5\n",
            "Doctorate : 6\n"
          ],
          "name": "stdout"
        }
      ]
    },
    {
      "cell_type": "code",
      "metadata": {
        "colab": {
          "base_uri": "https://localhost:8080/"
        },
        "id": "tDm1SG3hb45b",
        "outputId": "7c53c880-892c-4ccc-93c2-3934fe96b095"
      },
      "source": [
        "mapp(df['Income_Category'])\r\n",
        "num_val4, meta_data = pd.factorize(df['Income_Category'])\r\n",
        "df['Income_Category'] = num_val4"
      ],
      "execution_count": 86,
      "outputs": [
        {
          "output_type": "stream",
          "text": [
            "$60K - $80K : 0\n",
            "Less than $40K : 1\n",
            "$80K - $120K : 2\n",
            "$40K - $60K : 3\n",
            "$120K + : 4\n",
            "Unknown : 5\n"
          ],
          "name": "stdout"
        }
      ]
    },
    {
      "cell_type": "code",
      "metadata": {
        "colab": {
          "base_uri": "https://localhost:8080/"
        },
        "id": "eplJ2_K0b7U8",
        "outputId": "71c17e0f-25ae-4919-b120-e050a2b36298"
      },
      "source": [
        "mapp(df['Gender'])\r\n",
        "num_val3, meta_data = pd.factorize(df['Gender'])\r\n",
        "df['Gender'] = num_val3"
      ],
      "execution_count": 87,
      "outputs": [
        {
          "output_type": "stream",
          "text": [
            "M : 0\n",
            "F : 1\n"
          ],
          "name": "stdout"
        }
      ]
    },
    {
      "cell_type": "code",
      "metadata": {
        "colab": {
          "base_uri": "https://localhost:8080/"
        },
        "id": "vzK9uqhAb-6u",
        "outputId": "edf95a1d-ddfa-47b8-9218-3d971cc3c3e3"
      },
      "source": [
        "mapp(df['Marital_Status'])\r\n",
        "num_val3, meta_data = pd.factorize(df['Marital_Status'])\r\n",
        "df['Marital_Status'] = num_val3"
      ],
      "execution_count": 88,
      "outputs": [
        {
          "output_type": "stream",
          "text": [
            "Married : 0\n",
            "Single : 1\n",
            "Unknown : 2\n",
            "Divorced : 3\n"
          ],
          "name": "stdout"
        }
      ]
    },
    {
      "cell_type": "code",
      "metadata": {
        "id": "pFZopZXScBZ7"
      },
      "source": [
        "df.insert(20, 'Target', df['Attrition_Flag'])\r\n",
        "df=df.drop(['Attrition_Flag'], axis=1)"
      ],
      "execution_count": 89,
      "outputs": []
    },
    {
      "cell_type": "code",
      "metadata": {
        "id": "8XTHmJdPcGvr"
      },
      "source": [
        "df = df.sample(frac=1).reset_index(drop=True)"
      ],
      "execution_count": 90,
      "outputs": []
    },
    {
      "cell_type": "code",
      "metadata": {
        "id": "99rdBv0ucJ5f"
      },
      "source": [
        "df = df.drop(['Marital_Status','Gender','Income_Category','Education_Level','Card_Category','Avg_Open_To_Buy','Credit_Limit','Months_on_book','Dependent_count','Customer_Age'], axis=1)"
      ],
      "execution_count": 91,
      "outputs": []
    },
    {
      "cell_type": "markdown",
      "metadata": {
        "id": "D5gE--ZhcXp1"
      },
      "source": [
        "# Machine Learning"
      ]
    },
    {
      "cell_type": "code",
      "metadata": {
        "id": "TBcB8bG_cP35"
      },
      "source": [
        "working_data = df.iloc[0:10000,:]\r\n",
        "testing_data = df.iloc[10000:,:]"
      ],
      "execution_count": 92,
      "outputs": []
    },
    {
      "cell_type": "code",
      "metadata": {
        "id": "s6wB_8Q7cgUB"
      },
      "source": [
        "xx=testing_data.iloc[:,:9]\r\n",
        "yy=testing_data.iloc[:,9:]"
      ],
      "execution_count": 93,
      "outputs": []
    },
    {
      "cell_type": "code",
      "metadata": {
        "id": "O_LZ2X-qchIL"
      },
      "source": [
        "x = working_data.iloc[:,:9]\r\n",
        "labels = working_data.iloc[:,9:]"
      ],
      "execution_count": 94,
      "outputs": []
    },
    {
      "cell_type": "code",
      "metadata": {
        "id": "sJ7gvUV-cmvS"
      },
      "source": [
        "X_train, X_test, y_train, y_test = train_test_split(x, labels, test_size = 0.2, random_state=0)"
      ],
      "execution_count": 95,
      "outputs": []
    },
    {
      "cell_type": "code",
      "metadata": {
        "id": "EOXj8etSwkJN"
      },
      "source": [
        "training_accuracy  = []  \r\n",
        "test_accuracy = []\r\n",
        "x_axis=[]\r\n",
        "for i in range(1, 21):\r\n",
        "    knn = KNeighborsClassifier(n_neighbors = i)\r\n",
        "    knn.fit(X_train, y_train)\r\n",
        "    training_accuracy.append(knn.score(X_train, y_train))\r\n",
        "    test_accuracy.append(knn.score(X_test, y_test))\r\n",
        "    x_axis.append(i)\r\n",
        "    \r\n",
        "from IPython.display import clear_output\r\n",
        "clear_output()"
      ],
      "execution_count": 96,
      "outputs": []
    },
    {
      "cell_type": "code",
      "metadata": {
        "colab": {
          "base_uri": "https://localhost:8080/",
          "height": 280
        },
        "id": "rao14S7ayAjw",
        "outputId": "04a1e4c5-a053-4fe2-a12b-37b4e67108e3"
      },
      "source": [
        "plt.plot(x_axis, training_accuracy, label=\"Training\")\r\n",
        "plt.plot(x_axis, test_accuracy, label=\"Testing\")\r\n",
        "plt.legend([\"Training\", \"Testing\"], loc =\"upper right\")\r\n",
        "plt.xlabel(\"n_neighbors\")\r\n",
        "plt.ylabel(\"Accuracy\")\r\n",
        "plt.show()"
      ],
      "execution_count": 97,
      "outputs": [
        {
          "output_type": "display_data",
          "data": {
            "image/png": "[encoded data removed]",
            "text/plain": [
              "<Figure size 432x288 with 1 Axes>"
            ]
          },
          "metadata": {
            "tags": [],
            "needs_background": "light"
          }
        }
      ]
    },
    {
      "cell_type": "code",
      "metadata": {
        "colab": {
          "base_uri": "https://localhost:8080/"
        },
        "id": "l6L1ai5gcqDn",
        "outputId": "94ac0b61-cae9-4faf-e421-619be24e9656"
      },
      "source": [
        "knn=KNeighborsClassifier(n_neighbors=3)\r\n",
        "knn.fit(X_train,y_train)"
      ],
      "execution_count": 98,
      "outputs": [
        {
          "output_type": "stream",
          "text": [
            "/usr/local/lib/python3.7/dist-packages/sklearn/neighbors/_classification.py:179: DataConversionWarning: A column-vector y was passed when a 1d array was expected. Please change the shape of y to (n_samples,), for example using ravel().\n",
            "  return self._fit(X, y)\n"
          ],
          "name": "stderr"
        },
        {
          "output_type": "execute_result",
          "data": {
            "text/plain": [
              "KNeighborsClassifier(n_neighbors=3)"
            ]
          },
          "metadata": {
            "tags": []
          },
          "execution_count": 98
        }
      ]
    },
    {
      "cell_type": "code",
      "metadata": {
        "id": "Kn-Hazj4dN3l"
      },
      "source": [
        "y_pred=knn.predict(X_test)"
      ],
      "execution_count": 99,
      "outputs": []
    },
    {
      "cell_type": "code",
      "metadata": {
        "colab": {
          "base_uri": "https://localhost:8080/",
          "height": 106
        },
        "id": "GrEZu2ydeQEY",
        "outputId": "558d27ac-4259-49be-f004-f62dc7a523a6"
      },
      "source": [
        "cm = np.array(confusion_matrix(y_test, y_pred, labels=[0,1]))\r\n",
        "confusion = pd.DataFrame(cm, index=['Actual_Not_Targeted', 'Actual_Targeted'],\r\n",
        "                         columns=['predicted_Not_Targeted','predicted_Targeted'])\r\n",
        "confusion"
      ],
      "execution_count": 100,
      "outputs": [
        {
          "output_type": "execute_result",
          "data": {
            "text/html": [
              "<div>\n",
              "<style scoped>\n",
              "    .dataframe tbody tr th:only-of-type {\n",
              "        vertical-align: middle;\n",
              "    }\n",
              "\n",
              "    .dataframe tbody tr th {\n",
              "        vertical-align: top;\n",
              "    }\n",
              "\n",
              "    .dataframe thead th {\n",
              "        text-align: right;\n",
              "    }\n",
              "</style>\n",
              "<table border=\"1\" class=\"dataframe\">\n",
              "  <thead>\n",
              "    <tr style=\"text-align: right;\">\n",
              "      <th></th>\n",
              "      <th>predicted_Not_Targeted</th>\n",
              "      <th>predicted_Targeted</th>\n",
              "    </tr>\n",
              "  </thead>\n",
              "  <tbody>\n",
              "    <tr>\n",
              "      <th>Actual_Not_Targeted</th>\n",
              "      <td>1612</td>\n",
              "      <td>63</td>\n",
              "    </tr>\n",
              "    <tr>\n",
              "      <th>Actual_Targeted</th>\n",
              "      <td>133</td>\n",
              "      <td>192</td>\n",
              "    </tr>\n",
              "  </tbody>\n",
              "</table>\n",
              "</div>"
            ],
            "text/plain": [
              "                     predicted_Not_Targeted  predicted_Targeted\n",
              "Actual_Not_Targeted                    1612                  63\n",
              "Actual_Targeted                         133                 192"
            ]
          },
          "metadata": {
            "tags": []
          },
          "execution_count": 100
        }
      ]
    },
    {
      "cell_type": "markdown",
      "metadata": {
        "id": "h6IC50l59-2H"
      },
      "source": [
        "Trying our model on unseen data"
      ]
    },
    {
      "cell_type": "code",
      "metadata": {
        "id": "BwwZy3T2GN-J"
      },
      "source": [
        "new_output = knn.predict(xx)"
      ],
      "execution_count": 101,
      "outputs": []
    },
    {
      "cell_type": "code",
      "metadata": {
        "id": "AmZ-YU2xFrcd"
      },
      "source": [
        "lis=[]\r\n",
        "for i in yy['Target']:\r\n",
        "  lis.append(i)"
      ],
      "execution_count": 102,
      "outputs": []
    },
    {
      "cell_type": "code",
      "metadata": {
        "colab": {
          "base_uri": "https://localhost:8080/"
        },
        "id": "h9N2UTOsdo7f",
        "outputId": "0ba8d37c-13ea-4d5d-e0ff-f22b0c3bf4e3"
      },
      "source": [
        "print('Actual ====> Predicted')\r\n",
        "for i in range(len(yy['Target'])):\r\n",
        "  print(lis[i],'===>',new_output[i])  "
      ],
      "execution_count": 103,
      "outputs": [
        {
          "output_type": "stream",
          "text": [
            "Actual ====> Predicted\n",
            "0 ===> 0\n",
            "0 ===> 0\n",
            "0 ===> 0\n",
            "0 ===> 0\n",
            "0 ===> 0\n",
            "1 ===> 0\n",
            "0 ===> 0\n",
            "0 ===> 0\n",
            "1 ===> 1\n",
            "0 ===> 0\n",
            "0 ===> 0\n",
            "0 ===> 0\n",
            "0 ===> 0\n",
            "0 ===> 0\n",
            "0 ===> 0\n",
            "1 ===> 1\n",
            "0 ===> 0\n",
            "1 ===> 1\n",
            "0 ===> 0\n",
            "0 ===> 0\n",
            "0 ===> 0\n",
            "0 ===> 0\n",
            "1 ===> 1\n",
            "0 ===> 0\n",
            "0 ===> 0\n",
            "0 ===> 0\n",
            "0 ===> 0\n",
            "1 ===> 1\n",
            "0 ===> 0\n",
            "0 ===> 0\n",
            "0 ===> 0\n",
            "0 ===> 0\n",
            "0 ===> 0\n",
            "0 ===> 0\n",
            "0 ===> 0\n",
            "0 ===> 0\n",
            "0 ===> 0\n",
            "0 ===> 0\n",
            "0 ===> 0\n",
            "0 ===> 0\n",
            "0 ===> 0\n",
            "0 ===> 0\n",
            "0 ===> 0\n",
            "0 ===> 0\n",
            "0 ===> 0\n",
            "0 ===> 0\n",
            "0 ===> 0\n",
            "0 ===> 0\n",
            "0 ===> 0\n",
            "0 ===> 0\n",
            "0 ===> 0\n",
            "0 ===> 0\n",
            "0 ===> 0\n",
            "0 ===> 0\n",
            "0 ===> 0\n",
            "0 ===> 0\n",
            "0 ===> 0\n",
            "0 ===> 0\n",
            "0 ===> 0\n",
            "0 ===> 0\n",
            "0 ===> 0\n",
            "0 ===> 0\n",
            "1 ===> 0\n",
            "1 ===> 1\n",
            "0 ===> 0\n",
            "1 ===> 1\n",
            "0 ===> 0\n",
            "1 ===> 0\n",
            "0 ===> 0\n",
            "0 ===> 0\n",
            "0 ===> 0\n",
            "0 ===> 0\n",
            "1 ===> 1\n",
            "1 ===> 1\n",
            "0 ===> 0\n",
            "0 ===> 0\n",
            "1 ===> 1\n",
            "0 ===> 0\n",
            "0 ===> 0\n",
            "1 ===> 0\n",
            "0 ===> 0\n",
            "1 ===> 1\n",
            "0 ===> 0\n",
            "0 ===> 0\n",
            "0 ===> 0\n",
            "0 ===> 0\n",
            "1 ===> 1\n",
            "0 ===> 0\n",
            "0 ===> 0\n",
            "0 ===> 0\n",
            "1 ===> 0\n",
            "0 ===> 0\n",
            "0 ===> 0\n",
            "0 ===> 0\n",
            "0 ===> 0\n",
            "1 ===> 1\n",
            "0 ===> 0\n",
            "0 ===> 0\n",
            "0 ===> 0\n",
            "0 ===> 0\n",
            "0 ===> 0\n",
            "0 ===> 0\n",
            "0 ===> 0\n",
            "0 ===> 0\n",
            "0 ===> 0\n",
            "1 ===> 1\n",
            "0 ===> 0\n",
            "0 ===> 0\n",
            "0 ===> 0\n",
            "0 ===> 0\n",
            "1 ===> 1\n",
            "0 ===> 0\n",
            "0 ===> 0\n",
            "0 ===> 0\n",
            "0 ===> 0\n",
            "0 ===> 0\n",
            "0 ===> 0\n",
            "0 ===> 0\n",
            "0 ===> 0\n",
            "0 ===> 0\n",
            "0 ===> 0\n",
            "0 ===> 0\n",
            "1 ===> 1\n",
            "0 ===> 0\n",
            "1 ===> 1\n",
            "0 ===> 0\n",
            "0 ===> 0\n"
          ],
          "name": "stdout"
        }
      ]
    },
    {
      "cell_type": "code",
      "metadata": {
        "colab": {
          "base_uri": "https://localhost:8080/"
        },
        "id": "sB3UsE7keISp",
        "outputId": "2f1ece32-3031-4883-e358-4070c682d9a9"
      },
      "source": [
        "c=0\r\n",
        "for j in range(len(new_output)):\r\n",
        "  if lis[j]==new_output[j]:\r\n",
        "    c=c+1\r\n",
        "print(\"The number of occasions on which our model showed correct classification:\",c,\"out-off\",j+1,\"cases\")"
      ],
      "execution_count": 104,
      "outputs": [
        {
          "output_type": "stream",
          "text": [
            "The number of occasions on which our model showed correct classification: 122 out-off 127 cases\n"
          ],
          "name": "stdout"
        }
      ]
    },
    {
      "cell_type": "code",
      "metadata": {
        "colab": {
          "base_uri": "https://localhost:8080/",
          "height": 106
        },
        "id": "ErI5d-1q-MmH",
        "outputId": "29d20385-44c6-4ab1-d73f-b246ab63e073"
      },
      "source": [
        "cm = np.array(confusion_matrix(lis, new_output, labels=[0,1]))\r\n",
        "confusion = pd.DataFrame(cm, index=['Actual_Not_Targeted', 'Actual_Targeted'],\r\n",
        "                         columns=['predicted_Not_Targeted','predicted_Targeted'])\r\n",
        "confusion"
      ],
      "execution_count": 105,
      "outputs": [
        {
          "output_type": "execute_result",
          "data": {
            "text/html": [
              "<div>\n",
              "<style scoped>\n",
              "    .dataframe tbody tr th:only-of-type {\n",
              "        vertical-align: middle;\n",
              "    }\n",
              "\n",
              "    .dataframe tbody tr th {\n",
              "        vertical-align: top;\n",
              "    }\n",
              "\n",
              "    .dataframe thead th {\n",
              "        text-align: right;\n",
              "    }\n",
              "</style>\n",
              "<table border=\"1\" class=\"dataframe\">\n",
              "  <thead>\n",
              "    <tr style=\"text-align: right;\">\n",
              "      <th></th>\n",
              "      <th>predicted_Not_Targeted</th>\n",
              "      <th>predicted_Targeted</th>\n",
              "    </tr>\n",
              "  </thead>\n",
              "  <tbody>\n",
              "    <tr>\n",
              "      <th>Actual_Not_Targeted</th>\n",
              "      <td>105</td>\n",
              "      <td>0</td>\n",
              "    </tr>\n",
              "    <tr>\n",
              "      <th>Actual_Targeted</th>\n",
              "      <td>5</td>\n",
              "      <td>17</td>\n",
              "    </tr>\n",
              "  </tbody>\n",
              "</table>\n",
              "</div>"
            ],
            "text/plain": [
              "                     predicted_Not_Targeted  predicted_Targeted\n",
              "Actual_Not_Targeted                     105                   0\n",
              "Actual_Targeted                           5                  17"
            ]
          },
          "metadata": {
            "tags": []
          },
          "execution_count": 105
        }
      ]
    },
    {
      "cell_type": "code",
      "metadata": {
        "id": "LKmHE1zpIAsO"
      },
      "source": [
        "Pkl_Filename = \"KNN_Model.pkl\"  \r\n",
        "\r\n",
        "with open(Pkl_Filename, 'wb') as file:  \r\n",
        "    pickle.dump(knn, file)"
      ],
      "execution_count": 106,
      "outputs": []
    },
    {
      "cell_type": "code",
      "metadata": {
        "id": "enXgOTeCIagR"
      },
      "source": [
        "from pydrive.auth import GoogleAuth\r\n",
        "from pydrive.drive import GoogleDrive\r\n",
        "from google.colab import auth\r\n",
        "from oauth2client.client import GoogleCredentials\r\n",
        "\r\n",
        "# 1. Authenticate and create the PyDrive client.\r\n",
        "auth.authenticate_user()\r\n",
        "gauth = GoogleAuth()\r\n",
        "gauth.credentials = GoogleCredentials.get_application_default()\r\n",
        "drive = GoogleDrive(gauth)  \r\n",
        "\r\n",
        "# get the folder id where you want to save your file\r\n",
        "file = drive.CreateFile({'parents':[{u'id':'your folder id'}]})\r\n",
        "file.SetContentFile(\"KNN_Model.pkl\")\r\n",
        "file.Upload() "
      ],
      "execution_count": 107,
      "outputs": []
    },
    {
      "cell_type": "code",
      "metadata": {
        "id": "oLN3PKl0IgBr"
      },
      "source": [
        ""
      ],
      "execution_count": null,
      "outputs": []
    }
  ]
}